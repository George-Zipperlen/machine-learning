{
 "cells": [
  {
   "cell_type": "markdown",
   "metadata": {},
   "source": [
    "# Implementing dask-searchCV to speed-up gridsearchCV and including PCA in the pipeline"
   ]
  },
  {
   "cell_type": "markdown",
   "metadata": {},
   "source": [
    "This is just a quick notebook to see:\n",
    "* How much does dask-searchCV speed things up? (A: More than 3X faster for the 2.TCGA-MLexample)\n",
    "* Can you include PCA (and a search for n_components) in the pipeline? (A: Yes!)\n",
    "* Are there any limitations to including PCA in the pipeline? (A: It takes a while & my computer couldn't handle n_jobs > 1)\n"
   ]
  },
  {
   "cell_type": "markdown",
   "metadata": {},
   "source": [
    "## Outline\n",
    "1. Imports, load data, etc.\n",
    "2. Evaluate dask-searchCV on original notebook 2 pipeline (mad feature selection)\n",
    "    * SciKit-Learn gridsearchCV (~ 7 minutes)\n",
    "    * Dask-searchCV (~ 2 minutes)\n",
    "    * Dask-searchCV with cv=10 (\n",
    "3. Evaluate including PCA in the pipeline (note: These instances set n_jobs to 1 because, except for the trivial case, my computer froze when trying to implement with n_jobs set to -1)\n",
    "    * Trivial/Benchmark Case [2, 4]\n",
    "    * Trivial/Benchmark Case [2, 4] with cv=10\n",
    "    * Long list of few components [2, 4, 6, 8, 10, 12, 14, 16, 18, 20]\n",
    "    * Short list of many comonents [3000, 5000, 7000]\n",
    "    * Full Sweep [20, 30, 45, 67, 100, 150, 225, 337, 505, 757, 1135, 1702, 2553, 3829]"
   ]
  },
  {
   "cell_type": "markdown",
   "metadata": {},
   "source": [
    "# 1. Imports, load data, etc."
   ]
  },
  {
   "cell_type": "code",
   "execution_count": 1,
   "metadata": {
    "collapsed": false
   },
   "outputs": [
    {
     "name": "stdout",
     "output_type": "stream",
     "text": [
      "Wall time: 16.5 s\n"
     ]
    }
   ],
   "source": [
    "%%time\n",
    "import os\n",
    "import random\n",
    "\n",
    "import pandas as pd\n",
    "import numpy as np\n",
    "import matplotlib.pyplot as plt\n",
    "import seaborn as sns\n",
    "from sklearn import preprocessing\n",
    "from sklearn.linear_model import SGDClassifier\n",
    "from sklearn.model_selection import train_test_split\n",
    "from sklearn.model_selection import GridSearchCV as GridSearchCV_original\n",
    "from sklearn.metrics import roc_auc_score, roc_curve\n",
    "from sklearn.pipeline import Pipeline\n",
    "from sklearn.preprocessing import StandardScaler\n",
    "from sklearn.feature_selection import SelectKBest\n",
    "from statsmodels.robust.scale import mad\n",
    "from dask_searchcv import GridSearchCV as GridSearchCV_dask\n",
    "from sklearn.decomposition import PCA"
   ]
  },
  {
   "cell_type": "code",
   "execution_count": 2,
   "metadata": {
    "collapsed": false
   },
   "outputs": [],
   "source": [
    "%matplotlib inline\n",
    "plt.style.use('seaborn-notebook')"
   ]
  },
  {
   "cell_type": "markdown",
   "metadata": {},
   "source": [
    "## Specify model configuration"
   ]
  },
  {
   "cell_type": "code",
   "execution_count": 3,
   "metadata": {
    "collapsed": true
   },
   "outputs": [],
   "source": [
    "# We're going to be building a 'TP53' classifier \n",
    "GENE = '7157' # TP53"
   ]
  },
  {
   "cell_type": "markdown",
   "metadata": {},
   "source": [
    "## Load Data"
   ]
  },
  {
   "cell_type": "code",
   "execution_count": 4,
   "metadata": {
    "collapsed": false
   },
   "outputs": [
    {
     "name": "stdout",
     "output_type": "stream",
     "text": [
      "Wall time: 3.49 s\n"
     ]
    }
   ],
   "source": [
    "%%time\n",
    "try: \n",
    "    path = os.path.join('..', '..', 'download', 'expression-matrix.pkl')\n",
    "    X = pd.read_pickle(path)\n",
    "except:\n",
    "    path = os.path.join('..', '..', 'download', 'expression-matrix.tsv.bz2')\n",
    "    X = pd.read_table(path, index_col=0)\n",
    "\n",
    "try:\n",
    "    path = os.path.join('..', '..', 'download', 'mutation-matrix.pkl')\n",
    "    Y = pd.read_pickle(path)\n",
    "except:\n",
    "    path = os.path.join('..', '..', 'download', 'mutation-matrix.tsv.bz2')\n",
    "    Y = pd.read_table(path, index_col=0)"
   ]
  },
  {
   "cell_type": "code",
   "execution_count": 5,
   "metadata": {
    "collapsed": false
   },
   "outputs": [],
   "source": [
    "y = Y[GENE]"
   ]
  },
  {
   "cell_type": "code",
   "execution_count": 6,
   "metadata": {
    "collapsed": false
   },
   "outputs": [],
   "source": [
    "X_train, X_test, y_train, y_test = train_test_split(X, y, test_size=0.1, random_state=0)"
   ]
  },
  {
   "cell_type": "markdown",
   "metadata": {},
   "source": [
    "# 2. Evaluate dask-searchCV on original notebook 2 pipeline"
   ]
  },
  {
   "cell_type": "markdown",
   "metadata": {},
   "source": [
    "## Median absolute deviation feature selection"
   ]
  },
  {
   "cell_type": "code",
   "execution_count": 7,
   "metadata": {
    "collapsed": false
   },
   "outputs": [],
   "source": [
    "def fs_mad(x, y):\n",
    "    \"\"\"    \n",
    "    Get the median absolute deviation (MAD) for each column of x\n",
    "    \"\"\"\n",
    "    scores = mad(x) \n",
    "    return scores, np.array([np.NaN]*len(scores))"
   ]
  },
  {
   "cell_type": "code",
   "execution_count": 8,
   "metadata": {
    "collapsed": false
   },
   "outputs": [],
   "source": [
    "# Parameter Sweep for Hyperparameters\n",
    "# Modifications from orginal Notebook 2. : n_jobs set to 1 instead of -1\n",
    "param_grid_original = {\n",
    "    'select__k': [2000],\n",
    "    'classify__loss': ['log'],\n",
    "    'classify__penalty': ['elasticnet'],\n",
    "    'classify__alpha': [10 ** x for x in range(-3, 1)],\n",
    "    'classify__l1_ratio': [0, 0.2, 0.8, 1],\n",
    "}\n",
    "\n",
    "pipeline_original = Pipeline(steps=[\n",
    "    ('select', SelectKBest(fs_mad)),\n",
    "    ('standardize', StandardScaler()),\n",
    "    ('classify', SGDClassifier(random_state=0, class_weight='balanced'))\n",
    "])"
   ]
  },
  {
   "cell_type": "markdown",
   "metadata": {},
   "source": [
    "## Original (SciKit-Learn)"
   ]
  },
  {
   "cell_type": "code",
   "execution_count": 9,
   "metadata": {
    "collapsed": false
   },
   "outputs": [
    {
     "name": "stdout",
     "output_type": "stream",
     "text": [
      "Wall time: 5min 9s\n"
     ]
    }
   ],
   "source": [
    "%%time\n",
    "cv_pipeline_original = GridSearchCV_original(estimator=pipeline_original, param_grid=param_grid_original, n_jobs=1, scoring='roc_auc')\n",
    "cv_pipeline_original.fit(X=X_train, y=y_train)"
   ]
  },
  {
   "cell_type": "markdown",
   "metadata": {},
   "source": [
    "## dask-searchCV"
   ]
  },
  {
   "cell_type": "code",
   "execution_count": 10,
   "metadata": {
    "collapsed": false
   },
   "outputs": [
    {
     "name": "stdout",
     "output_type": "stream",
     "text": [
      "Wall time: 1min 31s\n"
     ]
    }
   ],
   "source": [
    "%%time\n",
    "cv_pipeline_original_dask = GridSearchCV_dask(estimator=pipeline_original, param_grid=param_grid_original, n_jobs=1, scoring='roc_auc')\n",
    "cv_pipeline_original_dask.fit(X=X_train, y=y_train)"
   ]
  },
  {
   "cell_type": "markdown",
   "metadata": {},
   "source": [
    "## dask-searchCV with CV=10 (10 cross-validation splits as opposed to the default 3)"
   ]
  },
  {
   "cell_type": "code",
   "execution_count": 11,
   "metadata": {
    "collapsed": false
   },
   "outputs": [
    {
     "name": "stdout",
     "output_type": "stream",
     "text": [
      "Wall time: 6min 18s\n"
     ]
    }
   ],
   "source": [
    "%%time\n",
    "cv_pipeline_original_dask = GridSearchCV_dask(estimator=pipeline_original, param_grid=param_grid_original, cv=10, n_jobs=1, scoring='roc_auc')\n",
    "cv_pipeline_original_dask.fit(X=X_train, y=y_train)"
   ]
  },
  {
   "cell_type": "markdown",
   "metadata": {},
   "source": [
    "# 3. Evaluate including PCA in the pipeline"
   ]
  },
  {
   "cell_type": "markdown",
   "metadata": {},
   "source": [
    "## Trivial/Benchmark Case [2, 4] with default cv=3"
   ]
  },
  {
   "cell_type": "code",
   "execution_count": 12,
   "metadata": {
    "collapsed": false
   },
   "outputs": [],
   "source": [
    "param_grid = {\n",
    "    'pca__n_components': [2,4],\n",
    "    'classify__loss': ['log'],\n",
    "    'classify__penalty': ['elasticnet'],\n",
    "    'classify__alpha': [10 ** x for x in range(-3, 1)],\n",
    "    'classify__l1_ratio': [0, 0.2, 0.8, 1],\n",
    "}\n",
    "\n",
    "pipeline = Pipeline(steps=[\n",
    "    ('standardize-pre', StandardScaler()),\n",
    "    ('pca', PCA()),\n",
    "    ('standardize-post', StandardScaler()),\n",
    "    ('classify', SGDClassifier(random_state=0, class_weight='balanced'))\n",
    "])"
   ]
  },
  {
   "cell_type": "code",
   "execution_count": 13,
   "metadata": {
    "collapsed": false
   },
   "outputs": [
    {
     "name": "stdout",
     "output_type": "stream",
     "text": [
      "Wall time: 4min 37s\n"
     ]
    }
   ],
   "source": [
    "%%time\n",
    "cv_pipeline_dask = GridSearchCV_dask(estimator=pipeline, param_grid=param_grid, n_jobs=1, scoring='roc_auc')\n",
    "cv_pipeline_dask.fit(X=X_train, y=y_train)"
   ]
  },
  {
   "cell_type": "markdown",
   "metadata": {},
   "source": [
    "## Trivial/Benchmark Case [2, 4] with cv=10"
   ]
  },
  {
   "cell_type": "code",
   "execution_count": 14,
   "metadata": {
    "collapsed": true
   },
   "outputs": [],
   "source": [
    "param_grid = {\n",
    "    'pca__n_components': [2,4],\n",
    "    'classify__loss': ['log'],\n",
    "    'classify__penalty': ['elasticnet'],\n",
    "    'classify__alpha': [10 ** x for x in range(-3, 1)],\n",
    "    'classify__l1_ratio': [0, 0.2, 0.8, 1],\n",
    "}\n",
    "\n",
    "pipeline = Pipeline(steps=[\n",
    "    ('standardize-pre', StandardScaler()),\n",
    "    ('pca', PCA()),\n",
    "    ('standardize-post', StandardScaler()),\n",
    "    ('classify', SGDClassifier(random_state=0, class_weight='balanced'))\n",
    "])"
   ]
  },
  {
   "cell_type": "code",
   "execution_count": 15,
   "metadata": {
    "collapsed": false
   },
   "outputs": [
    {
     "name": "stdout",
     "output_type": "stream",
     "text": [
      "Wall time: 15min 30s\n"
     ]
    }
   ],
   "source": [
    "%%time\n",
    "cv_pipeline_dask = GridSearchCV_dask(estimator=pipeline, param_grid=param_grid, cv=10, n_jobs=1, scoring='roc_auc')\n",
    "cv_pipeline_dask.fit(X=X_train, y=y_train)"
   ]
  },
  {
   "cell_type": "markdown",
   "metadata": {},
   "source": [
    "## Long list of few components [2, 4, 6, 8, 10, 12, 14, 16, 18, 20]"
   ]
  },
  {
   "cell_type": "code",
   "execution_count": 16,
   "metadata": {
    "collapsed": true
   },
   "outputs": [],
   "source": [
    "param_grid = {\n",
    "    'pca__n_components': [2, 4, 6, 8, 10, 12, 14, 16, 18, 20],\n",
    "    'classify__loss': ['log'],\n",
    "    'classify__penalty': ['elasticnet'],\n",
    "    'classify__alpha': [10 ** x for x in range(-3, 1)],\n",
    "    'classify__l1_ratio': [0, 0.2, 0.8, 1],\n",
    "}\n",
    "\n",
    "pipeline = Pipeline(steps=[\n",
    "    ('standardize-pre', StandardScaler()),\n",
    "    ('pca', PCA()),\n",
    "    ('standardize-post', StandardScaler()),\n",
    "    ('classify', SGDClassifier(random_state=0, class_weight='balanced'))\n",
    "])"
   ]
  },
  {
   "cell_type": "code",
   "execution_count": 17,
   "metadata": {
    "collapsed": false
   },
   "outputs": [
    {
     "name": "stdout",
     "output_type": "stream",
     "text": [
      "Wall time: 21min 54s\n"
     ]
    }
   ],
   "source": [
    "%%time\n",
    "cv_pipeline_dask = GridSearchCV_dask(estimator=pipeline, param_grid=param_grid, n_jobs=1, scoring='roc_auc')\n",
    "cv_pipeline_dask.fit(X=X_train, y=y_train)"
   ]
  },
  {
   "cell_type": "markdown",
   "metadata": {},
   "source": [
    "## Short list of many comonents [3000, 5000, 7000]"
   ]
  },
  {
   "cell_type": "code",
   "execution_count": 18,
   "metadata": {
    "collapsed": true
   },
   "outputs": [],
   "source": [
    "param_grid = {\n",
    "    'pca__n_components': [3000, 5000, 7000],\n",
    "    'classify__loss': ['log'],\n",
    "    'classify__penalty': ['elasticnet'],\n",
    "    'classify__alpha': [10 ** x for x in range(-3, 1)],\n",
    "    'classify__l1_ratio': [0, 0.2, 0.8, 1],\n",
    "}\n",
    "\n",
    "pipeline = Pipeline(steps=[\n",
    "    ('standardize-pre', StandardScaler()),\n",
    "    ('pca', PCA()),\n",
    "    ('standardize-post', StandardScaler()),\n",
    "    ('classify', SGDClassifier(random_state=0, class_weight='balanced'))\n",
    "])"
   ]
  },
  {
   "cell_type": "code",
   "execution_count": 19,
   "metadata": {
    "collapsed": false
   },
   "outputs": [
    {
     "name": "stdout",
     "output_type": "stream",
     "text": [
      "Wall time: 1h 1min 51s\n"
     ]
    }
   ],
   "source": [
    "%%time\n",
    "cv_pipeline_dask = GridSearchCV_dask(estimator=pipeline, param_grid=param_grid, n_jobs=1, scoring='roc_auc')\n",
    "cv_pipeline_dask.fit(X=X_train, y=y_train)"
   ]
  },
  {
   "cell_type": "markdown",
   "metadata": {},
   "source": [
    "## Full Sweep [20, 30, 45, 67, 100, 150, 225, 337, 505, 757, 1135, 1702, 2553, 3829]"
   ]
  },
  {
   "cell_type": "code",
   "execution_count": 20,
   "metadata": {
    "collapsed": false
   },
   "outputs": [
    {
     "name": "stdout",
     "output_type": "stream",
     "text": [
      "[20, 30, 45, 67, 100, 150, 225, 337, 505, 757, 1135, 1702, 2553, 3829]\n"
     ]
    }
   ],
   "source": [
    "listOfComponents = []\n",
    "component = 20\n",
    "while component < 4000:\n",
    "    listOfComponents.append(component)\n",
    "    component = component + (0.5 * component)\n",
    "    component = int(component)\n",
    "print(listOfComponents)"
   ]
  },
  {
   "cell_type": "code",
   "execution_count": 23,
   "metadata": {
    "collapsed": true
   },
   "outputs": [],
   "source": [
    "param_grid = {\n",
    "    'pca__n_components': [20, 30, 45, 67, 100, 150, 225, 337, 505, 757, 1135, 1702, 2553, 3829],\n",
    "    'classify__loss': ['log'],\n",
    "    'classify__penalty': ['elasticnet'],\n",
    "    'classify__alpha': [10 ** x for x in range(-3, 1)],\n",
    "    'classify__l1_ratio': [0, 0.2, 0.8, 1],\n",
    "}\n",
    "\n",
    "pipeline = Pipeline(steps=[\n",
    "    ('standardize-pre', StandardScaler()),\n",
    "    ('pca', PCA()),\n",
    "    ('standardize-post', StandardScaler()),\n",
    "    ('classify', SGDClassifier(random_state=0, class_weight='balanced'))\n",
    "])"
   ]
  },
  {
   "cell_type": "code",
   "execution_count": 24,
   "metadata": {
    "collapsed": false
   },
   "outputs": [
    {
     "name": "stdout",
     "output_type": "stream",
     "text": [
      "Wall time: 1h 24min 47s\n"
     ]
    }
   ],
   "source": [
    "%%time\n",
    "cv_pipeline_dask = GridSearchCV_dask(estimator=pipeline, param_grid=param_grid, n_jobs=1, scoring='roc_auc')\n",
    "cv_pipeline_dask.fit(X=X_train, y=y_train)"
   ]
  }
 ],
 "metadata": {
  "kernelspec": {
   "display_name": "Python 3",
   "language": "python",
   "name": "python3"
  },
  "language_info": {
   "codemirror_mode": {
    "name": "ipython",
    "version": 3
   },
   "file_extension": ".py",
   "mimetype": "text/x-python",
   "name": "python",
   "nbconvert_exporter": "python",
   "pygments_lexer": "ipython3",
   "version": "3.6.0"
  }
 },
 "nbformat": 4,
 "nbformat_minor": 0
}
